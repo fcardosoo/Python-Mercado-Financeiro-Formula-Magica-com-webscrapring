{
 "cells": [
  {
   "cell_type": "markdown",
   "id": "4b438038",
   "metadata": {},
   "source": [
    "# Projeto 2 - Pegar os dados do site Fundamentus para automatizar o modelo de Factoring Invest"
   ]
  },
  {
   "cell_type": "markdown",
   "id": "8968409a",
   "metadata": {},
   "source": [
    "## Passo a passo:\n",
    "\n",
    "* Passo 1: Definir o navegador;\n",
    "* Passo 2: Baixar as bibliotecas;\n",
    "* Passo 3: Configurar as requisições na internet"
   ]
  },
  {
   "cell_type": "markdown",
   "id": "c23e2c24",
   "metadata": {},
   "source": [
    "### Passo 1: Navegador\n",
    "\n",
    "Google chrome"
   ]
  },
  {
   "cell_type": "markdown",
   "id": "b448ba5e",
   "metadata": {},
   "source": [
    "### Passo 2: Bibliotecas"
   ]
  },
  {
   "cell_type": "code",
   "execution_count": 1,
   "id": "35c50780",
   "metadata": {},
   "outputs": [],
   "source": [
    "from selenium import webdriver\n",
    "from selenium.webdriver.chrome.service import Service\n",
    "from webdriver_manager.chrome import ChromeDriverManager\n",
    "import pandas as pd"
   ]
  },
  {
   "cell_type": "code",
   "execution_count": 2,
   "id": "133ad4ee",
   "metadata": {},
   "outputs": [],
   "source": [
    "### Passo 3: "
   ]
  },
  {
   "cell_type": "code",
   "execution_count": 5,
   "id": "675a8225",
   "metadata": {},
   "outputs": [],
   "source": [
    "#driver = webdriver.Chrome()\n",
    "driver = webdriver.Chrome(service = Service(ChromeDriverManager().install()))"
   ]
  },
  {
   "cell_type": "code",
   "execution_count": 6,
   "id": "f770a9e8",
   "metadata": {},
   "outputs": [],
   "source": [
    "url = 'https://www.fundamentus.com.br/resultado.php'\n",
    "driver.get(url)"
   ]
  },
  {
   "cell_type": "code",
   "execution_count": null,
   "id": "135b7e4d",
   "metadata": {},
   "outputs": [],
   "source": []
  }
 ],
 "metadata": {
  "kernelspec": {
   "display_name": "Python 3 (ipykernel)",
   "language": "python",
   "name": "python3"
  },
  "language_info": {
   "codemirror_mode": {
    "name": "ipython",
    "version": 3
   },
   "file_extension": ".py",
   "mimetype": "text/x-python",
   "name": "python",
   "nbconvert_exporter": "python",
   "pygments_lexer": "ipython3",
   "version": "3.10.9"
  }
 },
 "nbformat": 4,
 "nbformat_minor": 5
}
