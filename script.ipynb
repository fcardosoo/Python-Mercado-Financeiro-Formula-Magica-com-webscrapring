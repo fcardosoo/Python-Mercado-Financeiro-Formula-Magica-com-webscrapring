{
 "cells": [
  {
   "cell_type": "markdown",
   "id": "4b438038",
   "metadata": {},
   "source": [
    "# Projeto 2 - Pegar os dados do site Fundamentus para automatizar o modelo de Factoring Invest"
   ]
  },
  {
   "cell_type": "markdown",
   "id": "8968409a",
   "metadata": {},
   "source": [
    "## Passo a passo:\n",
    "\n",
    "* Passo 1: Definir o navegador;\n",
    "* Passo 2: Baixar as bibliotecas;\n",
    "* Passo 3: Configurar as requisições na internet"
   ]
  },
  {
   "cell_type": "markdown",
   "id": "c23e2c24",
   "metadata": {},
   "source": [
    "### Passo 1: Navegador\n",
    "\n",
    "Google chrome"
   ]
  },
  {
   "cell_type": "markdown",
   "id": "b448ba5e",
   "metadata": {},
   "source": [
    "### Passo 2: Bibliotecas"
   ]
  },
  {
   "cell_type": "code",
   "execution_count": null,
   "id": "35c50780",
   "metadata": {},
   "outputs": [],
   "source": [
    "from selenium import webdriver\n",
    "from selenium.webdriver.chrome.service import Service\n",
    "from webdriver_manager.chrome import ChromeDriverManager\n",
    "import pandas as pd"
   ]
  },
  {
   "cell_type": "markdown",
   "id": "2a39bebf",
   "metadata": {},
   "source": [
    "### Passo 3: "
   ]
  },
  {
   "cell_type": "code",
   "execution_count": null,
   "id": "675a8225",
   "metadata": {},
   "outputs": [],
   "source": [
    "#driver = webdriver.Chrome()\n",
    "driver = webdriver.Chrome(service = Service(ChromeDriverManager().install()))"
   ]
  },
  {
   "cell_type": "code",
   "execution_count": null,
   "id": "f770a9e8",
   "metadata": {},
   "outputs": [],
   "source": [
    "url = 'https://www.fundamentus.com.br/resultado.php'\n",
    "driver.get(url)"
   ]
  },
  {
   "cell_type": "code",
   "execution_count": null,
   "id": "157055d4",
   "metadata": {},
   "outputs": [],
   "source": []
  },
  {
   "cell_type": "markdown",
   "id": "4cabdd1a",
   "metadata": {},
   "source": [
    "### Passo 6 - Ler a tabela de Dados"
   ]
  },
  {
   "cell_type": "code",
   "execution_count": null,
   "id": "135b7e4d",
   "metadata": {},
   "outputs": [],
   "source": [
    "# Indicando o local dos dados\n",
    "local_tabela = '/html/body/div[1]/div[2]/table'\n",
    "\n",
    "# Indicando onde os dados estão no site\n",
    "elemento = driver.find_element(\"xpath\", local_tabela)\n",
    "\n",
    "# Pegando a tabela do site\n",
    "html_tabela = elemento.get_attribute(\"outerHTML\")\n",
    "\n",
    "tabela = pd.read_html(str(html_tabela), thousands = '.', decimal = ',')[0]\n",
    "\n",
    "tabela"
   ]
  },
  {
   "cell_type": "markdown",
   "id": "0bf4c57b",
   "metadata": {},
   "source": [
    "### Passo 7: Construir a tabela final"
   ]
  },
  {
   "cell_type": "code",
   "execution_count": null,
   "id": "9030197f",
   "metadata": {
    "scrolled": false
   },
   "outputs": [],
   "source": [
    "tabela = tabela.set_index('Papel')"
   ]
  },
  {
   "cell_type": "code",
   "execution_count": null,
   "id": "167ca310",
   "metadata": {},
   "outputs": [],
   "source": [
    "tabela = tabela[['Cotação', 'EV/EBIT', 'ROIC', 'Liq.2meses']]\n",
    "tabela"
   ]
  },
  {
   "cell_type": "code",
   "execution_count": null,
   "id": "d306e15e",
   "metadata": {},
   "outputs": [],
   "source": [
    "# Tratar a coluna do ROIC\n",
    "tabela['ROIC'] = tabela['ROIC'].str.replace('%', \"\")\n",
    "tabela['ROIC'] = tabela['ROIC'].str.replace('.', \"\")\n",
    "tabela['ROIC'] = tabela['ROIC'].str.replace(',', \".\")\n",
    "tabela['ROIC'] = tabela['ROIC'].astype(float)\n",
    "tabela"
   ]
  },
  {
   "cell_type": "markdown",
   "id": "663d0838",
   "metadata": {},
   "source": [
    "### 7.3 Filtros"
   ]
  },
  {
   "cell_type": "code",
   "execution_count": null,
   "id": "6824a9f9",
   "metadata": {},
   "outputs": [],
   "source": [
    "tabela = tabela[tabela['Liq.2meses'] > 1000000]\n",
    "tabela = tabela[tabela['EV/EBIT'] > 0]\n",
    "tabela = tabela[tabela['ROIC'] > 0]"
   ]
  },
  {
   "cell_type": "code",
   "execution_count": null,
   "id": "8ac26427",
   "metadata": {},
   "outputs": [],
   "source": [
    "tabela['ranking_ev_ebit'] = tabela['EV/EBIT'].rank(ascending = True)\n",
    "tabela['ranking_roic'] = tabela['ROIC'].rank(ascending = False)\n",
    "tabela['ranking_total'] = tabela['ranking_ev_ebit'] + tabela['ranking_roic']"
   ]
  },
  {
   "cell_type": "code",
   "execution_count": null,
   "id": "1b27f9a8",
   "metadata": {},
   "outputs": [],
   "source": [
    "tabela = tabela.sort_values('ranking_total')\n",
    "tabela"
   ]
  },
  {
   "cell_type": "code",
   "execution_count": null,
   "id": "f7aa7c78",
   "metadata": {},
   "outputs": [],
   "source": [
    "tabela.head(10)\n",
    "\n",
    "tickers = tabela.index\n",
    "\n",
    "tickers"
   ]
  },
  {
   "cell_type": "markdown",
   "id": "c27e6c3f",
   "metadata": {},
   "source": [
    "### Baixar e configurar o MT5"
   ]
  },
  {
   "cell_type": "markdown",
   "id": "182430b6",
   "metadata": {},
   "source": [
    "* Cada corretora é de uma forma;\n",
    "* Conta demo, sempre!"
   ]
  },
  {
   "cell_type": "code",
   "execution_count": null,
   "id": "2e210afc",
   "metadata": {},
   "outputs": [],
   "source": [
    "# !pip install MetaTrader5"
   ]
  },
  {
   "cell_type": "markdown",
   "id": "3eb5edb0",
   "metadata": {},
   "source": [
    "### Importar Bibliotecas"
   ]
  },
  {
   "cell_type": "code",
   "execution_count": null,
   "id": "0b45cc0f",
   "metadata": {},
   "outputs": [],
   "source": [
    "import MetaTrader5 as mt5"
   ]
  },
  {
   "cell_type": "code",
   "execution_count": null,
   "id": "cefc16de",
   "metadata": {},
   "outputs": [],
   "source": [
    "# inicializar o MetaTrader 5\n",
    "\n",
    "mt5.initialize()"
   ]
  },
  {
   "cell_type": "markdown",
   "id": "72cb0823",
   "metadata": {},
   "source": [
    "## Configurar o dicionário de ordem de compra das ações"
   ]
  },
  {
   "cell_type": "code",
   "execution_count": null,
   "id": "d0bb3953",
   "metadata": {},
   "outputs": [],
   "source": [
    "for ticker in tickers:\n",
    "    \n",
    "    mt5.symbol_select(ticker)\n",
    "    preco = mt5.symbol_info(ticker).ask\n",
    "    quantidade = 100.0\n",
    "    ordem_compra = {\n",
    "        \"action\": mt5.TRADE_ACTION_DEAL,\n",
    "        \"symbol\": ticker,\n",
    "        \"volume\": quantidade,\n",
    "        \"type\":   mt5.ORDER_TYPE_BUY,\n",
    "        \"price\":  preco,\n",
    "        \"magic\":  1,\n",
    "        \"comment\":      \"Trades hackeando a bolsa\",\n",
    "        \"type_time\":    mt5.ORDER_TIME_DAY,\n",
    "        \"type_filling\": mt5.ORDER_FILLING_RETURN,\n",
    "    }\n",
    "\n",
    "    compra = mt5.order_send(ordem_compra)"
   ]
  },
  {
   "cell_type": "code",
   "execution_count": null,
   "id": "db559305",
   "metadata": {},
   "outputs": [],
   "source": []
  }
 ],
 "metadata": {
  "kernelspec": {
   "display_name": "Python 3 (ipykernel)",
   "language": "python",
   "name": "python3"
  },
  "language_info": {
   "codemirror_mode": {
    "name": "ipython",
    "version": 3
   },
   "file_extension": ".py",
   "mimetype": "text/x-python",
   "name": "python",
   "nbconvert_exporter": "python",
   "pygments_lexer": "ipython3",
   "version": "3.10.9"
  }
 },
 "nbformat": 4,
 "nbformat_minor": 5
}
